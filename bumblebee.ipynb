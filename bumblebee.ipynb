{
 "cells": [
  {
   "cell_type": "code",
   "execution_count": 1,
   "metadata": {
    "collapsed": true
   },
   "outputs": [],
   "source": [
    "## Question: could jWST really see a bumblebee on the Moon?\n",
    "\n",
    "from astropy.analytic_functions import blackbody_nu\n",
    "from astropy import units as u\n",
    "from astropy.constants import c\n",
    "import numpy as np\n",
    "\n",
    "## properties of bumblebee according to \n",
    "## http://www.bumblebee.org/bodyTempReg.htm (temperature) and Wikipedia (size)\n",
    "## Note: bumblebee = BB = blackbody! ;-)\n",
    "BB_area = 20 * u.mm * 10 * u.mm\n",
    "BB_temp = 30 * u.Celsius\n",
    "dist_moon = 380000*u.km\n",
    "dist_sun = 150e6*u.km\n",
    "BB_dist = dist_moon ## bumblebee at the moon\n",
    "wave_obs = 10*u.micron\n",
    "\n",
    "## estimarted reflectance at 10 micron of basalt and anorthosite according to\n",
    "## http://www.sciencedirect.com/science/article/pii/S0032063303000175?via%3Dihub\n",
    "reflectivity_moon_mid_ir = 0.001"
   ]
  },
  {
   "cell_type": "code",
   "execution_count": 17,
   "metadata": {},
   "outputs": [
    {
     "data": {
      "text/latex": [
       "$3.0292671 \\times 10^{-6} \\; \\mathrm{Jy}$"
      ],
      "text/plain": [
       "<Quantity 3.0292670904507793e-06 Jy>"
      ]
     },
     "execution_count": 17,
     "metadata": {},
     "output_type": "execute_result"
    }
   ],
   "source": [
    "BB_solid_angle = u.sr * BB_area / BB_dist**2\n",
    "\n",
    "##\n",
    "## radiance of the bumblebee\n",
    "BB_nu = blackbody_nu(c/wave_obs, BB_temp)\n",
    "\n",
    "##\n",
    "## convert to flux at Earth's distance to moon (JWST's distance to the moon is variable)\n",
    "F_BB = BB_nu * 4*np.pi * 1/2 * BB_solid_angle\n",
    "F_BB_Jy = F_BB.to(\"Jy\")\n",
    "F_BB_Jy"
   ]
  },
  {
   "cell_type": "code",
   "execution_count": 15,
   "metadata": {},
   "outputs": [
    {
     "data": {
      "text/latex": [
       "$0.01565796 \\; \\mathrm{Jy}$"
      ],
      "text/plain": [
       "<Quantity 0.015657960427087933 Jy>"
      ]
     },
     "execution_count": 15,
     "metadata": {},
     "output_type": "execute_result"
    }
   ],
   "source": [
    "##\n",
    "## But what is its SNR if the bumblebee were in front of the fully lit moon?\n",
    "##\n",
    "D_JWST = 6.5 * u.m\n",
    "PSF_JWST = 1.22 * wave_obs / D_JWST\n",
    "\n",
    "##\n",
    "## radiance of the sun\n",
    "T_sun = 5772 * u.K\n",
    "BB_nu_sun = blackbody_nu(c/wave_obs, T_sun)\n",
    "\n",
    "##\n",
    "## area subtended by JWST PSF on the moon\n",
    "A_moon = (PSF_JWST * dist_moon/2)**2 * np.pi\n",
    "\n",
    "##\n",
    "## flux of the footprint of the moon under JWST PSF\n",
    "F_moon=BB_nu_sun * reflectivity_moon_mid_ir * A_moon/dist_sun**2 * 2*np.pi*u.sr\n",
    "F_moon_Jy=F_moon.to(\"Jy\")\n",
    "F_moon_Jy"
   ]
  },
  {
   "cell_type": "code",
   "execution_count": 20,
   "metadata": {},
   "outputs": [
    {
     "data": {
      "text/plain": [
       "2.4208616532135277e-05"
      ]
     },
     "execution_count": 20,
     "metadata": {},
     "output_type": "execute_result"
    }
   ],
   "source": [
    "##\n",
    "## finally, let's compute the SNR of the bumblebee in front of the moon (= poisson noise)\n",
    "SNR_BB = F_BB_Jy/np.sqrt(F_moon_Jy)\n",
    "SNR_BB.value"
   ]
  }
 ],
 "metadata": {
  "kernelspec": {
   "display_name": "Python 3",
   "language": "python",
   "name": "python3"
  },
  "language_info": {
   "codemirror_mode": {
    "name": "ipython",
    "version": 3
   },
   "file_extension": ".py",
   "mimetype": "text/x-python",
   "name": "python",
   "nbconvert_exporter": "python",
   "pygments_lexer": "ipython3",
   "version": "3.6.1"
  }
 },
 "nbformat": 4,
 "nbformat_minor": 2
}
