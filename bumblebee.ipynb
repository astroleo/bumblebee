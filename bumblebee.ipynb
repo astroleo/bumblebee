{
 "cells": [
  {
   "cell_type": "code",
   "execution_count": 26,
   "metadata": {
    "collapsed": true
   },
   "outputs": [],
   "source": [
    "## Question: could jWST really see a bumblebee on the Moon?\n",
    "%matplotlib inline\n",
    "from astropy.analytic_functions import blackbody_nu\n",
    "from astropy import units as u\n",
    "from astropy.constants import c,h\n",
    "import numpy as np\n",
    "from matplotlib import pyplot as plt\n",
    "\n",
    "## properties of bumblebee according to \n",
    "## http://www.bumblebee.org/bodyTempReg.htm (temperature) and Wikipedia (size)\n",
    "## Note: bumblebee = BB = blackbody! ;-)\n",
    "BB_area = 20 * u.mm * 10 * u.mm\n",
    "BB_temp = 30 * u.Celsius\n",
    "dist_moon = 380000*u.km\n",
    "dist_sun = 150e6*u.km\n",
    "BB_dist = dist_moon ## bumblebee at the moon\n",
    "wave_obs = 10*u.micron\n",
    "\n",
    "## estimarted reflectance at 10 micron of basalt and anorthosite according to\n",
    "## http://www.sciencedirect.com/science/article/pii/S0032063303000175?via%3Dihub\n",
    "reflectivity_moon_mid_ir = 0.001"
   ]
  },
  {
   "cell_type": "code",
   "execution_count": null,
   "metadata": {
    "collapsed": true
   },
   "outputs": [],
   "source": []
  },
  {
   "cell_type": "code",
   "execution_count": 2,
   "metadata": {},
   "outputs": [
    {
     "data": {
      "text/latex": [
       "$3.0292671 \\times 10^{-6} \\; \\mathrm{Jy}$"
      ],
      "text/plain": [
       "<Quantity 3.0292670904507793e-06 Jy>"
      ]
     },
     "execution_count": 2,
     "metadata": {},
     "output_type": "execute_result"
    }
   ],
   "source": [
    "BB_solid_angle = u.sr * BB_area / BB_dist**2\n",
    "\n",
    "##\n",
    "## radiance of the bumblebee\n",
    "BB_nu = blackbody_nu(c/wave_obs, BB_temp)\n",
    "\n",
    "##\n",
    "## convert to flux at Earth's distance to moon (JWST's distance to the moon is variable)\n",
    "F_BB = BB_nu * 4*np.pi * 1/2 * BB_solid_angle\n",
    "F_BB.to(\"Jy\")"
   ]
  },
  {
   "cell_type": "code",
   "execution_count": null,
   "metadata": {
    "collapsed": true
   },
   "outputs": [],
   "source": []
  },
  {
   "cell_type": "code",
   "execution_count": 3,
   "metadata": {},
   "outputs": [
    {
     "data": {
      "text/latex": [
       "$0.01565796 \\; \\mathrm{Jy}$"
      ],
      "text/plain": [
       "<Quantity 0.015657960427087933 Jy>"
      ]
     },
     "execution_count": 3,
     "metadata": {},
     "output_type": "execute_result"
    }
   ],
   "source": [
    "##\n",
    "## But what is its SNR if the bumblebee were in front of the fully lit moon?\n",
    "##\n",
    "D_JWST = 6.5 * u.m\n",
    "PSF_JWST = 1.22 * wave_obs / D_JWST\n",
    "\n",
    "##\n",
    "## radiance of the sun\n",
    "T_sun = 5772 * u.K\n",
    "BB_nu_sun = blackbody_nu(c/wave_obs, T_sun)\n",
    "\n",
    "##\n",
    "## area subtended by JWST PSF on the moon\n",
    "A_moon = (PSF_JWST * dist_moon/2)**2 * np.pi\n",
    "\n",
    "##\n",
    "## flux of the footprint of the moon under JWST PSF\n",
    "F_moon=BB_nu_sun * reflectivity_moon_mid_ir * A_moon/dist_sun**2 * 2*np.pi*u.sr\n",
    "F_moon.to(\"Jy\")"
   ]
  },
  {
   "cell_type": "code",
   "execution_count": 21,
   "metadata": {},
   "outputs": [
    {
     "data": {
      "text/latex": [
       "$3894.9249 \\; \\mathrm{}$"
      ],
      "text/plain": [
       "<Quantity 3894.9248709270855>"
      ]
     },
     "execution_count": 21,
     "metadata": {},
     "output_type": "execute_result"
    }
   ],
   "source": [
    "# 1 Jy = 1e-26 W/(Hz m**2)\n",
    "## number of photons from moon per second\n",
    "n_ph_moon = (F_moon*c/(wave_obs)*(D_JWST/2)**2*np.pi/(h*c/wave_obs)).to(\"Hz\")\n",
    "n_ph_BB = (F_BB*c/(wave_obs)*(D_JWST/2)**2*np.pi/(h*c/wave_obs)).to(\"Hz\")\n",
    "##\n",
    "## let's assume we integrate 1e4 seconds. We then have\n",
    "N_ph_moon = 1e4*u.s*n_ph_moon\n",
    "N_ph_BB = 1e4*u.s*n_ph_BB\n",
    "## we can now treat the bumble bee as source radiation and the photon shot noise of the moon's\n",
    "## radiation as noise and arrive at a SNR of\n",
    "SNR = N_ph_BB/np.sqrt(N_ph_BB)\n",
    "SNR.to(1)"
   ]
  },
  {
   "cell_type": "code",
   "execution_count": 30,
   "metadata": {},
   "outputs": [
    {
     "name": "stderr",
     "output_type": "stream",
     "text": [
      "/usr/local/lib/python3.6/site-packages/astropy/units/quantity.py:951: RuntimeWarning: invalid value encountered in true_divide\n",
      "  return super(Quantity, self).__truediv__(other)\n"
     ]
    },
    {
     "data": {
      "text/plain": [
       "<matplotlib.text.Text at 0x10ca33f28>"
      ]
     },
     "execution_count": 30,
     "metadata": {},
     "output_type": "execute_result"
    },
    {
     "data": {
      "image/png": "[encoded data removed]",
      "text/plain": [
       "<matplotlib.figure.Figure at 0x10c741b00>"
      ]
     },
     "metadata": {},
     "output_type": "display_data"
    }
   ],
   "source": [
    "def SNR_BB(exptime,n_ph_moon,n_ph_BB):\n",
    "    N_ph_moon = exptime*n_ph_moon\n",
    "    N_ph_BB = exptime*n_ph_BB\n",
    "    SNR = N_ph_BB/np.sqrt(N_ph_BB)\n",
    "    return(SNR)\n",
    "\n",
    "## We can also see how long we need to integrate (assuming we're already in the photon shot-noise limit) in order to see the bumblebee at a certain SNR\n",
    "exptimes=np.arange(1e4)*u.s\n",
    "plt.plot(exptimes,SNR_BB(exptimes,n_ph_moon,n_ph_BB))\n",
    "plt.xlabel(\"JWST integration time [s]\")\n",
    "plt.ylabel(\"SNR (photon-shot noise only)\")\n",
    "plt.title(\"SNR of bumblebee in front of moon\")"
   ]
  },
  {
   "cell_type": "code",
   "execution_count": null,
   "metadata": {
    "collapsed": true
   },
   "outputs": [],
   "source": []
  }
 ],
 "metadata": {
  "kernelspec": {
   "display_name": "Python 3",
   "language": "python",
   "name": "python3"
  },
  "language_info": {
   "codemirror_mode": {
    "name": "ipython",
    "version": 3
   },
   "file_extension": ".py",
   "mimetype": "text/x-python",
   "name": "python",
   "nbconvert_exporter": "python",
   "pygments_lexer": "ipython3",
   "version": "3.6.1"
  }
 },
 "nbformat": 4,
 "nbformat_minor": 2
}
